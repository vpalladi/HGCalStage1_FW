{
 "cells": [
  {
   "cell_type": "code",
   "execution_count": 228,
   "metadata": {
    "collapsed": true
   },
   "outputs": [],
   "source": [
    "def plotLatency(val, fileName, clk_MHz) :\n",
    "    #val = (data.endComputing-data.beginComputing)\n",
    "\n",
    "    n, bins, patches = plt.hist( ( val * 1/clk_MHz ), 14)\n",
    "    mean = val.mean()\n",
    "    sigma = val.std()\n",
    "\n",
    "    plt.title(r'$\\mathrm{Histogram\\ of\\ IQ:}\\ \\mu=%.4f \\mu s$' % (mean*1/clk_MHz) )\n",
    "    plt.xlabel('Latency ($\\mu$s)')\n",
    "    #plt.axis([60, 160, 0, 1])\n",
    "    plt.savefig(fileName, dpi=300)\n",
    "\n",
    "    plt.show()"
   ]
  },
  {
   "cell_type": "code",
   "execution_count": 250,
   "metadata": {
    "collapsed": true
   },
   "outputs": [],
   "source": [
    "import pandas\n",
    "import matplotlib.pyplot as plt"
   ]
  },
  {
   "cell_type": "code",
   "execution_count": 277,
   "metadata": {},
   "outputs": [],
   "source": [
    "dataSet = '1seed'\n",
    "\n",
    "data = pandas.read_csv('/home/vpalladi/FW/MP7/cactusupgrades/projects/hgc/sim/'+dataSet+'/latency/latency_0.csv')\n",
    "clk_MHz = 320\n"
   ]
  },
  {
   "cell_type": "code",
   "execution_count": 278,
   "metadata": {
    "scrolled": true
   },
   "outputs": [
    {
     "data": {
      "text/html": [
       "<div>\n",
       "<style>\n",
       "    .dataframe thead tr:only-child th {\n",
       "        text-align: right;\n",
       "    }\n",
       "\n",
       "    .dataframe thead th {\n",
       "        text-align: left;\n",
       "    }\n",
       "\n",
       "    .dataframe tbody tr th {\n",
       "        vertical-align: top;\n",
       "    }\n",
       "</style>\n",
       "<table border=\"1\" class=\"dataframe\">\n",
       "  <thead>\n",
       "    <tr style=\"text-align: right;\">\n",
       "      <th></th>\n",
       "      <th>fileName</th>\n",
       "      <th>sAcquired</th>\n",
       "      <th>beginComputing</th>\n",
       "      <th>endComputing</th>\n",
       "      <th>beginSend</th>\n",
       "      <th>endSend</th>\n",
       "    </tr>\n",
       "  </thead>\n",
       "  <tbody>\n",
       "    <tr>\n",
       "      <th>0</th>\n",
       "      <td>outR_0.mp7</td>\n",
       "      <td>10</td>\n",
       "      <td>105</td>\n",
       "      <td>118</td>\n",
       "      <td>120</td>\n",
       "      <td>146</td>\n",
       "    </tr>\n",
       "    <tr>\n",
       "      <th>1</th>\n",
       "      <td>outR_100.mp7</td>\n",
       "      <td>10</td>\n",
       "      <td>113</td>\n",
       "      <td>124</td>\n",
       "      <td>126</td>\n",
       "      <td>152</td>\n",
       "    </tr>\n",
       "    <tr>\n",
       "      <th>2</th>\n",
       "      <td>outR_101.mp7</td>\n",
       "      <td>10</td>\n",
       "      <td>111</td>\n",
       "      <td>124</td>\n",
       "      <td>126</td>\n",
       "      <td>152</td>\n",
       "    </tr>\n",
       "    <tr>\n",
       "      <th>3</th>\n",
       "      <td>outR_102.mp7</td>\n",
       "      <td>10</td>\n",
       "      <td>113</td>\n",
       "      <td>124</td>\n",
       "      <td>126</td>\n",
       "      <td>152</td>\n",
       "    </tr>\n",
       "    <tr>\n",
       "      <th>4</th>\n",
       "      <td>outR_103.mp7</td>\n",
       "      <td>10</td>\n",
       "      <td>61</td>\n",
       "      <td>70</td>\n",
       "      <td>72</td>\n",
       "      <td>98</td>\n",
       "    </tr>\n",
       "  </tbody>\n",
       "</table>\n",
       "</div>"
      ],
      "text/plain": [
       "       fileName  sAcquired  beginComputing  endComputing  beginSend  endSend\n",
       "0    outR_0.mp7         10             105           118        120      146\n",
       "1  outR_100.mp7         10             113           124        126      152\n",
       "2  outR_101.mp7         10             111           124        126      152\n",
       "3  outR_102.mp7         10             113           124        126      152\n",
       "4  outR_103.mp7         10              61            70         72       98"
      ]
     },
     "execution_count": 278,
     "metadata": {},
     "output_type": "execute_result"
    }
   ],
   "source": [
    "data.head()"
   ]
  },
  {
   "cell_type": "code",
   "execution_count": 285,
   "metadata": {
    "scrolled": false
   },
   "outputs": [
    {
     "data": {
      "image/png": "[encoded data removed]",
      "text/plain": [
       "<matplotlib.figure.Figure at 0x7f45f5540510>"
      ]
     },
     "metadata": {},
     "output_type": "display_data"
    }
   ],
   "source": [
    "\n",
    "val = data.endSend\n",
    "\n",
    "\n",
    "plotLatency(val, '/home/vpalladi/Desktop/CMS/PICS/latency/latency_'+dataSet+'_'+str(clk_MHz)+'MHz.png', clk_MHz)\n",
    "\n",
    "plt.show()\n"
   ]
  },
  {
   "cell_type": "code",
   "execution_count": 286,
   "metadata": {},
   "outputs": [
    {
     "data": {
      "image/png": "[encoded data removed]",
      "text/plain": [
       "<matplotlib.figure.Figure at 0x7f45f4afa2d0>"
      ]
     },
     "metadata": {},
     "output_type": "display_data"
    }
   ],
   "source": [
    "val = (data.endComputing-data.beginComputing)\n",
    "plotLatency( val, '/home/vpalladi/Desktop/CMS/PICS/latency/latencyComputing_'+dataSet+'_'+str(clk_MHz)+'MHz.png', clk_MHz ) "
   ]
  },
  {
   "cell_type": "code",
   "execution_count": 281,
   "metadata": {},
   "outputs": [
    {
     "data": {
      "image/png": "[encoded data removed]",
      "text/plain": [
       "<matplotlib.figure.Figure at 0x7f45f4c12050>"
      ]
     },
     "metadata": {},
     "output_type": "display_data"
    }
   ],
   "source": [
    "val = (data.endSend-data.beginSend)\n",
    "plotLatency( val, '/home/vpalladi/Desktop/CMS/PICS/latency/latencySend_'+dataSet+'_'+str(clk_MHz)+'MHz.png', clk_MHz )"
   ]
  },
  {
   "cell_type": "code",
   "execution_count": 282,
   "metadata": {},
   "outputs": [
    {
     "name": "stdout",
     "output_type": "stream",
     "text": [
      ">>  100 events processed\n",
      ">>  200 events processed\n",
      ">>  300 events processed\n",
      ">>  400 events processed\n",
      ">>  500 events processed\n",
      ">>  600 events processed\n",
      ">>  700 events processed\n",
      ">>  800 events processed\n",
      ">>  900 events processed\n"
     ]
    }
   ],
   "source": [
    "import sys\n",
    "sys.path.append('/home/vpalladi/SW/HGC/sim/HgcTpgSim/python/naming')\n",
    "\n",
    "from modules.mp7 import *\n",
    "\n",
    "in_data = []\n",
    "\n",
    "for i,f in enumerate(data.fileName) :\n",
    "    if (i)%100 == 0 and i != 0:\n",
    "        print '>> ',i,'events processed'\n",
    "    board = MP7()\n",
    "    board.load_file('/home/vpalladi/FW/MP7/cactusupgrades/projects/hgc/sim/'+dataSet+'/'+f)\n",
    "    in_data.append( len(board.data_32b[0]) )\n",
    "        "
   ]
  },
  {
   "cell_type": "code",
   "execution_count": 283,
   "metadata": {},
   "outputs": [
    {
     "data": {
      "image/png": "[encoded data removed]",
      "text/plain": [
       "<matplotlib.figure.Figure at 0x7f45f536c6d0>"
      ]
     },
     "metadata": {},
     "output_type": "display_data"
    }
   ],
   "source": [
    "\n",
    "plt.plot(in_data, data.endSend*1/clk_MHz, linestyle='none', marker='o')\n",
    "\n",
    "plt.xlabel('Number of Trigger Cells')\n",
    "plt.ylabel('Latency ($\\mu$s)')\n",
    "\n",
    "plt.savefig('/home/vpalladi/Desktop/CMS/PICS/latency/latencyVsDataDepth_'+dataSet+'_'+str(clk_MHz)+'MHz.png', dpi=300)\n",
    "plt.show()\n"
   ]
  },
  {
   "cell_type": "code",
   "execution_count": null,
   "metadata": {
    "collapsed": true
   },
   "outputs": [],
   "source": []
  },
  {
   "cell_type": "code",
   "execution_count": null,
   "metadata": {
    "collapsed": true
   },
   "outputs": [],
   "source": []
  },
  {
   "cell_type": "code",
   "execution_count": null,
   "metadata": {
    "collapsed": true
   },
   "outputs": [],
   "source": []
  },
  {
   "cell_type": "code",
   "execution_count": null,
   "metadata": {
    "collapsed": true
   },
   "outputs": [],
   "source": []
  },
  {
   "cell_type": "code",
   "execution_count": null,
   "metadata": {
    "collapsed": true
   },
   "outputs": [],
   "source": []
  }
 ],
 "metadata": {
  "kernelspec": {
   "display_name": "Python 2",
   "language": "python",
   "name": "python2"
  },
  "language_info": {
   "codemirror_mode": {
    "name": "ipython",
    "version": 2
   },
   "file_extension": ".py",
   "mimetype": "text/x-python",
   "name": "python",
   "nbconvert_exporter": "python",
   "pygments_lexer": "ipython2",
   "version": "2.7.12"
  }
 },
 "nbformat": 4,
 "nbformat_minor": 2
}
